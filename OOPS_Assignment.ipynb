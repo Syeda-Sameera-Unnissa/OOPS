{
  "nbformat": 4,
  "nbformat_minor": 0,
  "metadata": {
    "colab": {
      "provenance": []
    },
    "kernelspec": {
      "name": "python3",
      "display_name": "Python 3"
    },
    "language_info": {
      "name": "python"
    }
  },
  "cells": [
    {
      "cell_type": "markdown",
      "source": [
        "## OOPS"
      ],
      "metadata": {
        "id": "cLxGi33yEeE7"
      }
    },
    {
      "cell_type": "markdown",
      "source": [
        "1. What is Object Oriented Programming (OOP)?\n",
        "\n",
        "\n",
        "---\n",
        "\n",
        "\n",
        "Object-Oriented Programming (OOPS) is a programming paradigm based on the concept of objects—which are instances of classes that encapsulate data (attributes) and behaviors (methods). OOPS focuses on organizing code into reusable and modular components, promoting concepts like inheritance, encapsulation, polymorphism, and abstraction. It helps manage complexity by modeling real-world entities and their interactions."
      ],
      "metadata": {
        "id": "YqWua5FREkoV"
      }
    },
    {
      "cell_type": "markdown",
      "source": [
        "2. What is a class?\n",
        "\n",
        "---\n",
        "A class in object-oriented programming is a blueprint for creating objects. It defines a template with attributes (data members) and methods (functions) that represent behaviors or actions associated with those attributes. Instances of a class (objects) share the same structure and can interact with one another through methods.\n",
        "\n"
      ],
      "metadata": {
        "id": "_I8DkG2TErzf"
      }
    },
    {
      "cell_type": "markdown",
      "source": [
        "3. What is an object in OOP?\n",
        "\n",
        "\n",
        "---\n",
        "\n",
        "An object in object-oriented programming (OOP) is an instance of a class. It represents a specific entity with its own state (attributes) and behaviors (methods). Objects have unique identities and interact with other objects by invoking their methods or accessing their attributes."
      ],
      "metadata": {
        "id": "gDsSKJGwErnB"
      }
    },
    {
      "cell_type": "markdown",
      "source": [
        "4. What is the difference between abstraction and encapsulation?\n",
        "\n",
        "---\n",
        "\n",
        "Abstraction hides complexity by showing only essential details, while encapsulation bundles data and methods into a single unit and controls access to it."
      ],
      "metadata": {
        "id": "IQ7LVCpPErbu"
      }
    },
    {
      "cell_type": "markdown",
      "source": [
        "5. What are dunder methods in Python?\n",
        "\n",
        "---\n",
        "Dunder methods (short for double underscore methods) in Python are special methods with double underscores at the beginning and end of their names, e.g., `__init__`, `__str__`, `__add__`. They allow you to define behavior for built-in operations and integrations with Python's built-in functionality. For example:\n",
        "\n",
        "- `__init__` initializes an object.\n",
        "- `__str__` defines a string representation of the object.\n",
        "- `__add__` allows adding two objects using the `+` operator.\n",
        "\n",
        "These methods enable custom behavior for operations like comparison, iteration, and more.\n"
      ],
      "metadata": {
        "id": "fuekhEH8ErOW"
      }
    },
    {
      "cell_type": "markdown",
      "source": [
        "6. Explain the concept of inheritance in OOP.\n",
        "\n",
        "---\n",
        "Inheritance in OOP allows a class (child) to inherit attributes and methods from another class (parent), promoting code reuse and hierarchy."
      ],
      "metadata": {
        "id": "wO5-u7TqEq5V"
      }
    },
    {
      "cell_type": "markdown",
      "source": [
        "7. What is polymorphism in OOP?\n",
        "\n",
        "---\n",
        "\n",
        "Polymorphism in OOP allows a single method to have multiple forms by behaving differently depending on the object it is called on, promoting flexibility and reusability."
      ],
      "metadata": {
        "id": "PIm08gpsEqtl"
      }
    },
    {
      "cell_type": "markdown",
      "source": [
        "8. How is encapsulation achieved in Python?\n",
        "\n",
        "---\n",
        "\n",
        "Encapsulation in Python is achieved by bundling data (attributes) and methods inside a class and restricting direct access to the attributes using access modifiers like private (`__attribute`)."
      ],
      "metadata": {
        "id": "LWeRWtONEqiT"
      }
    },
    {
      "cell_type": "markdown",
      "source": [
        "9. What is a constructor in Python?\n",
        "\n",
        "---\n",
        "\n",
        "A constructor in Python is a special method (`__init__`) used to initialize objects by setting initial values for attributes. It is called automatically when an object is created."
      ],
      "metadata": {
        "id": "YIykTWUeEqWj"
      }
    },
    {
      "cell_type": "markdown",
      "source": [
        "10. What are class and static methods in Python?\n",
        "\n",
        "---\n",
        "\n",
        "**Class methods** in Python are defined using `@classmethod` and operate on the class rather than instance data.  \n",
        "**Static methods** are defined using `@staticmethod` and do not operate on either instance or class data."
      ],
      "metadata": {
        "id": "smsjf9VNEqK3"
      }
    },
    {
      "cell_type": "markdown",
      "source": [
        "11. What is method overloading in Python?\n",
        "\n",
        "---\n",
        "\n",
        "**Method overloading** in Python allows multiple methods with the same name but different parameters (number or type of arguments). Python supports method overloading through dynamic typing."
      ],
      "metadata": {
        "id": "JleZjQgIEp90"
      }
    },
    {
      "cell_type": "markdown",
      "source": [
        "12. What is method overriding in OOP?\n",
        "\n",
        "---\n",
        "\n",
        "**Method overriding** in OOP occurs when a subclass provides a specific implementation of a method that is already defined in its superclass, allowing the subclass to provide a different behavior."
      ],
      "metadata": {
        "id": "PC0RmXmFEpyk"
      }
    },
    {
      "cell_type": "markdown",
      "source": [
        "13. What is a property decorator in Python?\n",
        "\n",
        "---\n",
        "\n",
        "A **property decorator** in Python is used to create managed attributes by defining getter, setter, and sometimes deleter methods. It simplifies access to instance attributes by using `@property`, `@setter`, and `@deleter` decorators."
      ],
      "metadata": {
        "id": "rC0ytfkHEpns"
      }
    },
    {
      "cell_type": "markdown",
      "source": [
        "14. Why is polymorphism important in Python?\n",
        "\n",
        "---\n",
        "Polymorphism is important in Python because it allows for flexible and reusable code. It enables objects of different classes to be treated as instances of a common superclass, allowing for the implementation of operations that work across different types of objects, enhancing code scalability and maintainability.\n"
      ],
      "metadata": {
        "id": "iT2ZBsdHEpdn"
      }
    },
    {
      "cell_type": "markdown",
      "source": [
        "15. What is an abstract class in Python?\n",
        "\n",
        "---\n",
        "\n",
        "An **abstract class** in Python is a class that cannot be instantiated directly and is used as a blueprint for other classes. It can contain abstract methods (methods without implementation) that must be implemented by any derived class."
      ],
      "metadata": {
        "id": "4SN06eqpEpSG"
      }
    },
    {
      "cell_type": "markdown",
      "source": [
        "*16*. What are the advantages of OOP?\n",
        "\n",
        "\n",
        "---\n",
        "\n",
        "**Advantages of Object-Oriented Programming (OOP):**\n",
        "\n",
        "1. **Modularity:** Code is organized into objects, making it easier to maintain and update.\n",
        "2. **Reusability:** Classes and objects can be reused across programs, reducing redundancy.\n",
        "3. **Scalability:** OOP makes it easier to scale large projects by dividing tasks into manageable parts.\n",
        "4. **Encapsulation:** Data and methods are bundled together, enhancing security and reducing complexity.\n",
        "5. **Inheritance:** Promotes code reuse by allowing new classes to derive properties and methods from existing ones.\n",
        "6. **Polymorphism:** Enables a single interface to represent different underlying forms (e.g., method overriding).\n",
        "7. **Maintainability:** OOP structures facilitate debugging and future enhancements."
      ],
      "metadata": {
        "id": "3frzUXRBEpG1"
      }
    },
    {
      "cell_type": "markdown",
      "source": [
        "17. What is the difference between a class variable and an instance variable?\n",
        "---\n",
        "\n",
        "**Class Variable:**\n",
        "- Shared among all instances of a class.\n",
        "- Defined at the class level.\n",
        "- Changes affect all instances.\n",
        "- Example: `class_variable` in `class Example`.\n",
        "\n",
        "**Instance Variable:**\n",
        "- Unique to each instance of a class.\n",
        "- Defined inside methods (typically `__init__`).\n",
        "- Changes affect only the specific instance.\n",
        "- Example: `self.instance_variable` in `class Example`."
      ],
      "metadata": {
        "id": "ZEgAmWqiEo72"
      }
    },
    {
      "cell_type": "markdown",
      "source": [
        "18. What is multiple inheritance in Python?\n",
        "---\n",
        "\n",
        "Multiple inheritance in Python allows a class to inherit attributes and methods from more than one parent class. This enables a child class to combine functionality from multiple sources."
      ],
      "metadata": {
        "id": "DDmpSkVnEowq"
      }
    },
    {
      "cell_type": "markdown",
      "source": [
        "19. Explain the purpose of \"_ _str_ _' and ' _ _repr_ _'' methods in Python?\n",
        "\n",
        "---\n",
        "\n",
        "**`__str__` method**:  \n",
        "- Provides a human-readable string representation of an object, used for informal display (e.g., when printing an object).\n",
        "\n",
        "**`__repr__` method**:  \n",
        "- Provides an unambiguous string representation of an object, mainly used for debugging and development purposes."
      ],
      "metadata": {
        "id": "yHY-d2q1Eok-"
      }
    },
    {
      "cell_type": "markdown",
      "source": [
        "20. What is the significance of the 'super()' function in Python?\n",
        "---\n",
        "\n",
        "The `super()` function in Python is used to call methods from a parent class in a derived class, ensuring that the parent class's behavior is maintained while extending or modifying it. This helps avoid code duplication and promotes better inheritance practices."
      ],
      "metadata": {
        "id": "GWGVD6WBEoUA"
      }
    },
    {
      "cell_type": "markdown",
      "source": [
        "21. What is the significance of the _ _del_ _ method in Python?\n",
        "---\n",
        "The `__del__` method in Python is a destructor that is called when an object is about to be destroyed (garbage collected). It allows cleanup of resources like closing files, freeing memory, or other resource management tasks.\n"
      ],
      "metadata": {
        "id": "q3IFtZzkEoGJ"
      }
    },
    {
      "cell_type": "markdown",
      "source": [
        "22. What is the difference between @staticmethod and @classmethod in Python?\n",
        "\n",
        "---\n",
        "\n",
        "**`@staticmethod`:**  \n",
        "- Method that doesn’t take `self` or `cls` as its first argument.\n",
        "- Can be called on the class or an instance without needing access to instance or class attributes.\n",
        "\n",
        "**`@classmethod`:**  \n",
        "- Method that takes `cls` as its first argument.\n",
        "- Used to access or modify class-level attributes or methods, and is called on the class."
      ],
      "metadata": {
        "id": "btxAQrZNEn5f"
      }
    },
    {
      "cell_type": "markdown",
      "source": [
        "23. How does polymorphism work in Python with inheritance?\n",
        "---\n",
        "In Python, **polymorphism** works through inheritance by allowing different classes to implement methods in their own way. A parent class defines a method, and subclasses override this method to provide specific functionality. This enables the same method call to behave differently based on the object type."
      ],
      "metadata": {
        "id": "Fm6QtYXlEntk"
      }
    },
    {
      "cell_type": "markdown",
      "source": [
        "24. What is method chaining in Python OOP?\n",
        "---\n",
        "Method chaining in Python OOP allows multiple methods to be called in a single line of code. Each method returns the object itself, enabling the next method to be called on the same object."
      ],
      "metadata": {
        "id": "XWuoTbVxEnc4"
      }
    },
    {
      "cell_type": "markdown",
      "source": [
        "25. What is the purpose of the __call__ method in Python?\n",
        "---\n",
        "The __call__ method in Python allows an object to be used as a function by making it callable. When an object with the __call__ method is called with parentheses, it executes the method defined within __call__."
      ],
      "metadata": {
        "id": "ABCSSJ2kEm8b"
      }
    },
    {
      "cell_type": "markdown",
      "source": [
        "## Practical Questions"
      ],
      "metadata": {
        "id": "kPy3zpegEyaS"
      }
    },
    {
      "cell_type": "code",
      "execution_count": null,
      "metadata": {
        "id": "2vvWqijBEZnz",
        "colab": {
          "base_uri": "https://localhost:8080/"
        },
        "outputId": "2b62bd23-3e87-4bc4-9f39-2bff78998350"
      },
      "outputs": [
        {
          "output_type": "stream",
          "name": "stdout",
          "text": [
            "This animal makes a sound.\n",
            "Bark!\n"
          ]
        }
      ],
      "source": [
        "#1. Create a parent class Animal with a method speak() that prints a generic message. Create a child class Dog that overrides the speak() method to print \"Bark!\"\n",
        "\n",
        "class Animal:\n",
        "    def speak(self):\n",
        "        print(\"This animal makes a sound.\")\n",
        "\n",
        "class Dog(Animal):\n",
        "    def speak(self):\n",
        "        print(\"Bark!\")\n",
        "\n",
        "\n",
        "generic_animal = Animal()\n",
        "generic_animal.speak()  # Output: This animal makes a sound.\n",
        "\n",
        "dog = Dog()\n",
        "dog.speak()  # Output: Bark!\n"
      ]
    },
    {
      "cell_type": "code",
      "source": [
        "#2. Write a program to create an abstract class Shape with a method area(). Derive classes Circle and Rectangle from it and implement the area() method in both.\n",
        "\n",
        "from abc import ABC, abstractmethod\n",
        "\n",
        "# Abstract class\n",
        "class Shape(ABC):\n",
        "    @abstractmethod\n",
        "    def area(self):\n",
        "        pass\n",
        "\n",
        "# Derived class: Circle\n",
        "class Circle(Shape):\n",
        "    def __init__(self, radius):\n",
        "        self.radius = radius\n",
        "\n",
        "    def area(self):\n",
        "        return 3.14159 * (self.radius ** 2)\n",
        "\n",
        "# Derived class: Rectangle\n",
        "class Rectangle(Shape):\n",
        "    def __init__(self, length, width):\n",
        "        self.length = length\n",
        "        self.width = width\n",
        "\n",
        "    def area(self):\n",
        "        return self.length * self.width\n",
        "\n",
        "circle = Circle(5)\n",
        "print(f\"Area of the circle: {circle.area()}\")\n",
        "rectangle = Rectangle(4, 6)\n",
        "print(f\"Area of the rectangle: {rectangle.area()}\")\n"
      ],
      "metadata": {
        "id": "38Mdu6hHE2yR",
        "colab": {
          "base_uri": "https://localhost:8080/"
        },
        "outputId": "be3f5fa1-1efb-4062-de4a-68675be9de97"
      },
      "execution_count": null,
      "outputs": [
        {
          "output_type": "stream",
          "name": "stdout",
          "text": [
            "Area of the circle: 78.53975\n",
            "Area of the rectangle: 24\n"
          ]
        }
      ]
    },
    {
      "cell_type": "code",
      "source": [
        "#3. Implement a multi-level inheritance scenario where a class Vehicle has an attribute type. Derive a class Car  and further derive a class Electric Car that adds a battery attribute.\n",
        "\n",
        "class Vehicle:\n",
        "    def __init__(self, vehicle_type):\n",
        "        self.vehicle_type = vehicle_type\n",
        "\n",
        "    def display_type(self):\n",
        "        print(f\"Vehicle type: {self.vehicle_type}\")\n",
        "\n",
        "class Car(Vehicle):\n",
        "    def __init__(self, vehicle_type, brand):\n",
        "        super().__init__(vehicle_type)\n",
        "        self.brand = brand\n",
        "\n",
        "    def display_brand(self):\n",
        "        print(f\"Car brand: {self.brand}\")\n",
        "\n",
        "class ElectricCar(Car):\n",
        "    def __init__(self, vehicle_type, brand, battery_capacity):\n",
        "        super().__init__(vehicle_type, brand)\n",
        "        self.battery_capacity = battery_capacity\n",
        "\n",
        "    def display_battery(self):\n",
        "        print(f\"Battery capacity: {self.battery_capacity} kWh\")\n",
        "\n",
        "\n",
        "tesla = ElectricCar(\"Electric Vehicle\", \"Tesla\", 75)\n",
        "\n",
        "tesla.display_type()       # Output: Vehicle type: Electric Vehicle\n",
        "tesla.display_brand()      # Output: Car brand: Tesla\n",
        "tesla.display_battery()    # Output: Battery capacity: 75 kWh"
      ],
      "metadata": {
        "id": "AiDxsYg-E2iK",
        "colab": {
          "base_uri": "https://localhost:8080/"
        },
        "outputId": "610585ba-e52f-4a72-e440-6b54b6d20853"
      },
      "execution_count": null,
      "outputs": [
        {
          "output_type": "stream",
          "name": "stdout",
          "text": [
            "Vehicle type: Electric Vehicle\n",
            "Car brand: Tesla\n",
            "Battery capacity: 75 kWh\n"
          ]
        }
      ]
    },
    {
      "cell_type": "code",
      "source": [
        "#4. Implement a multi-level inheritance scenario where a class Vehicle has an attribute type. Derive a class Car  and further derive a class Electric Car that adds a battery attribute.\n",
        "\n",
        "class Vehicle:\n",
        "    def __init__(self, vehicle_type):\n",
        "        self.vehicle_type = vehicle_type\n",
        "\n",
        "    def display_type(self):\n",
        "        print(f\"Vehicle type: {self.vehicle_type}\")\n",
        "\n",
        "class Car(Vehicle):\n",
        "    def __init__(self, vehicle_type, brand):\n",
        "        super().__init__(vehicle_type)\n",
        "        self.brand = brand\n",
        "\n",
        "    def display_brand(self):\n",
        "        print(f\"Car brand: {self.brand}\")\n",
        "\n",
        "class ElectricCar(Car):\n",
        "    def __init__(self, vehicle_type, brand, battery_capacity):\n",
        "        super().__init__(vehicle_type, brand)\n",
        "        self.battery_capacity = battery_capacity\n",
        "\n",
        "    def display_battery(self):\n",
        "        print(f\"Battery capacity: {self.battery_capacity} kWh\")\n",
        "\n",
        "\n",
        "tesla = ElectricCar(\"Electric Vehicle\", \"Tesla\", 75)\n",
        "\n",
        "tesla.display_type()       # Output: Vehicle type: Electric Vehicle\n",
        "tesla.display_brand()      # Output: Car brand: Tesla\n",
        "tesla.display_battery()    # Output: Battery capacity: 75 kWh"
      ],
      "metadata": {
        "id": "ioiFFhfYE2Ud",
        "colab": {
          "base_uri": "https://localhost:8080/"
        },
        "outputId": "094a5f85-4a44-4012-e498-2b1cdd0ab899"
      },
      "execution_count": null,
      "outputs": [
        {
          "output_type": "stream",
          "name": "stdout",
          "text": [
            "Vehicle type: Electric Vehicle\n",
            "Car brand: Tesla\n",
            "Battery capacity: 75 kWh\n"
          ]
        }
      ]
    },
    {
      "cell_type": "code",
      "source": [
        "#5. Write a program to demonstrate encapsulation by creating a class BankAccount with private attributes  balance and methods to deposit, withdraw, and check balance.\n",
        "\n",
        "class BankAccount:\n",
        "    def __init__(self, initial_balance=0):\n",
        "        self.__balance = initial_balance  # Private attribute\n",
        "\n",
        "    def deposit(self, amount):\n",
        "        if amount > 0:\n",
        "            self.__balance += amount\n",
        "            print(f\"Deposited: {amount}\")\n",
        "        else:\n",
        "            print(\"Deposit amount must be positive.\")\n",
        "\n",
        "    def withdraw(self, amount):\n",
        "        if 0 < amount <= self.__balance:\n",
        "            self.__balance -= amount\n",
        "            print(f\"Withdrew: {amount}\")\n",
        "        elif amount > self.__balance:\n",
        "            print(\"Insufficient balance.\")\n",
        "        else:\n",
        "            print(\"Withdrawal amount must be positive.\")\n",
        "\n",
        "    def check_balance(self):\n",
        "        return self.__balance\n",
        "\n",
        "account = BankAccount(1000)  # Initial balance of 1000\n",
        "account.deposit(500)         # Deposits 500\n",
        "account.withdraw(300)        # Withdraws 300\n",
        "print(f\"Balance: {account.check_balance()}\")  # Output: Balance: 1200\n",
        "\n",
        "account.withdraw(2000)       # Attempt to withdraw more than balance\n",
        "account.deposit(-100)        # Invalid deposit"
      ],
      "metadata": {
        "id": "0jMIQTLfE2Jk",
        "colab": {
          "base_uri": "https://localhost:8080/"
        },
        "outputId": "83b6e109-a1e4-4ad2-ed74-b4cd4427d738"
      },
      "execution_count": null,
      "outputs": [
        {
          "output_type": "stream",
          "name": "stdout",
          "text": [
            "Deposited: 500\n",
            "Withdrew: 300\n",
            "Balance: 1200\n",
            "Insufficient balance.\n",
            "Deposit amount must be positive.\n"
          ]
        }
      ]
    },
    {
      "cell_type": "code",
      "source": [
        "#6. Demonstrate runtime polymorphism using a method play() in a base class Instrument. Derive classes Guitar and Piano that implement their own version of play().\n",
        "\n",
        "class Instrument:\n",
        "    def play(self):\n",
        "        print(\"Playing an instrument.\")\n",
        "\n",
        "class Guitar(Instrument):\n",
        "    def play(self):\n",
        "        print(\"Strumming the guitar.\")\n",
        "\n",
        "class Piano(Instrument):\n",
        "    def play(self):\n",
        "        print(\"Playing the piano.\")\n",
        "\n",
        "def play_instrument(instrument):\n",
        "    instrument.play()\n",
        "\n",
        "instrument = Instrument()\n",
        "guitar = Guitar()\n",
        "piano = Piano()\n",
        "\n",
        "play_instrument(instrument)  # Output: Playing an instrument.\n",
        "play_instrument(guitar)      # Output: Strumming the guitar.\n",
        "play_instrument(piano)       # Output: Playing the piano."
      ],
      "metadata": {
        "id": "VjOuw-rkE1-8",
        "colab": {
          "base_uri": "https://localhost:8080/"
        },
        "outputId": "ad347cba-a23c-4d8b-8d31-2293ac30c804"
      },
      "execution_count": null,
      "outputs": [
        {
          "output_type": "stream",
          "name": "stdout",
          "text": [
            "Playing an instrument.\n",
            "Strumming the guitar.\n",
            "Playing the piano.\n"
          ]
        }
      ]
    },
    {
      "cell_type": "code",
      "source": [
        "#7. Create a class MathOperations with a class method add_numbers() to add two numbers and a static  method subtract_numbers() to subtract two numbers.\n",
        "\n",
        "class MathOperations:\n",
        "    @classmethod\n",
        "    def add_numbers(cls, a, b):\n",
        "        \"\"\"Class method to add two numbers.\"\"\"\n",
        "        return a + b\n",
        "\n",
        "    @staticmethod\n",
        "    def subtract_numbers(a, b):\n",
        "        \"\"\"Static method to subtract two numbers.\"\"\"\n",
        "        return a - b\n",
        "\n",
        "result_add = MathOperations.add_numbers(10, 5)  # Class method call\n",
        "print(f\"Addition: {result_add}\")  # Output: Addition: 15\n",
        "\n",
        "result_subtract = MathOperations.subtract_numbers(10, 5)  # Static method call\n",
        "print(f\"Subtraction: {result_subtract}\")  # Output: Subtraction: 5"
      ],
      "metadata": {
        "id": "FXA94dOqE1zy",
        "colab": {
          "base_uri": "https://localhost:8080/"
        },
        "outputId": "f5af3df1-2cb7-49b0-babe-df25b2ecb029"
      },
      "execution_count": null,
      "outputs": [
        {
          "output_type": "stream",
          "name": "stdout",
          "text": [
            "Addition: 15\n",
            "Subtraction: 5\n"
          ]
        }
      ]
    },
    {
      "cell_type": "code",
      "source": [
        "#8. Implement a class Person with a class method to count the total number of persons created.\n",
        "\n",
        "class Person:\n",
        "    total_persons = 0  # Class variable to track the total number of persons\n",
        "\n",
        "    def __init__(self, name):\n",
        "        self.name = name\n",
        "        Person.total_persons += 1  # Increment the count for each new person\n",
        "\n",
        "    @classmethod\n",
        "    def get_total_persons(cls):\n",
        "        \"\"\"Class method to get the total number of persons.\"\"\"\n",
        "        return cls.total_persons\n",
        "\n",
        "person1 = Person(\"Alice\")\n",
        "person2 = Person(\"Bob\")\n",
        "person3 = Person(\"Charlie\")\n",
        "\n",
        "print(f\"Total persons created: {Person.get_total_persons()}\")  # Output: Total persons created: 3"
      ],
      "metadata": {
        "id": "spJgyKZ7E1q1",
        "colab": {
          "base_uri": "https://localhost:8080/"
        },
        "outputId": "c9f40b02-8632-4a45-db75-a1228c9e6fa5"
      },
      "execution_count": null,
      "outputs": [
        {
          "output_type": "stream",
          "name": "stdout",
          "text": [
            "Total persons created: 3\n"
          ]
        }
      ]
    },
    {
      "cell_type": "code",
      "source": [
        "#9. Write a class Fraction with attributes numerator and denominator. Override the str method to display the  fraction as \"numerator/denominator\".\n",
        "\n",
        "class Fraction:\n",
        "    def __init__(self, numerator, denominator):\n",
        "        self.numerator = numerator\n",
        "        self.denominator = denominator\n",
        "\n",
        "    def __str__(self):\n",
        "        return f\"{self.numerator}/{self.denominator}\"\n",
        "\n",
        "fraction = Fraction(3, 4)\n",
        "print(fraction)  # Output: 3/4"
      ],
      "metadata": {
        "id": "VTu_VWleE1hW",
        "colab": {
          "base_uri": "https://localhost:8080/"
        },
        "outputId": "6942da65-a4e8-4ef3-caba-056fed95f22a"
      },
      "execution_count": null,
      "outputs": [
        {
          "output_type": "stream",
          "name": "stdout",
          "text": [
            "3/4\n"
          ]
        }
      ]
    },
    {
      "cell_type": "code",
      "source": [
        "#10. Demonstrate operator overloading by creating a class Vector and overriding the add method to add two vectors.\n",
        "\n",
        "class Vector:\n",
        "    def __init__(self, x, y):\n",
        "        self.x = x\n",
        "        self.y = y\n",
        "\n",
        "    def __add__(self, other):\n",
        "        \"\"\"Override the add operator (+) to add two vectors.\"\"\"\n",
        "        return Vector(self.x + other.x, self.y + other.y)\n",
        "\n",
        "    def __str__(self):\n",
        "        return f\"Vector({self.x}, {self.y})\"\n",
        "\n",
        "vector1 = Vector(2, 3)\n",
        "vector2 = Vector(4, 5)\n",
        "\n",
        "result_vector = vector1 + vector2  # Using the overridden + operator\n",
        "print(result_vector)  # Output: Vector(6, 8)"
      ],
      "metadata": {
        "id": "knMpvIScE1OW",
        "colab": {
          "base_uri": "https://localhost:8080/"
        },
        "outputId": "3e2e37d5-a851-4587-919a-e6f5d5426a03"
      },
      "execution_count": null,
      "outputs": [
        {
          "output_type": "stream",
          "name": "stdout",
          "text": [
            "Vector(6, 8)\n"
          ]
        }
      ]
    },
    {
      "cell_type": "code",
      "source": [
        "#11. Create a class Person with attributes name and age. Add a method greet() that prints \"Hello, my name is {name} and I am {age} years old.\"\n",
        "\n",
        "class Person:\n",
        "    def __init__(self, name, age):\n",
        "        self.name = name\n",
        "        self.age = age\n",
        "\n",
        "    def greet(self):\n",
        "        print(f\"Hello, my name is {self.name} and I am {self.age} years old.\")\n",
        "\n",
        "person = Person(\"Alice\", 30)\n",
        "person.greet()  # Output: Hello, my name is Alice and I am 30 years old."
      ],
      "metadata": {
        "id": "H0fFgzIrE1Dg",
        "colab": {
          "base_uri": "https://localhost:8080/"
        },
        "outputId": "8c7290b7-d1cb-4e7d-8654-820df7317b6f"
      },
      "execution_count": null,
      "outputs": [
        {
          "output_type": "stream",
          "name": "stdout",
          "text": [
            "Hello, my name is Alice and I am 30 years old.\n"
          ]
        }
      ]
    },
    {
      "cell_type": "code",
      "source": [
        "#12. Implement a class Student with attributes name and grades. Create a method average_grade() to compute  the average of the grades.\n",
        "\n",
        "class Student:\n",
        "    def __init__(self, name, grades):\n",
        "        self.name = name\n",
        "        self.grades = grades\n",
        "\n",
        "    def average_grade(self):\n",
        "        if len(self.grades) == 0:\n",
        "            return 0\n",
        "        return sum(self.grades) / len(self.grades)\n",
        "\n",
        "student = Student(\"Alice\", [85, 90, 78, 92, 88])\n",
        "average = student.average_grade()\n",
        "print(f\"{student.name}'s average grade is: {average:.2f}\")  # Output: Alice's average grade is: 86.60"
      ],
      "metadata": {
        "id": "fc6ca8RnE05k",
        "colab": {
          "base_uri": "https://localhost:8080/"
        },
        "outputId": "1a344098-984d-410c-de20-d320b560753f"
      },
      "execution_count": null,
      "outputs": [
        {
          "output_type": "stream",
          "name": "stdout",
          "text": [
            "Alice's average grade is: 86.60\n"
          ]
        }
      ]
    },
    {
      "cell_type": "code",
      "source": [
        "#13. Create a class Rectangle with methods set_dimensions() to set the dimensions and area() to calculate the  area.\n",
        "\n",
        "class Rectangle:\n",
        "    def __init__(self):\n",
        "        self.length = 0\n",
        "        self.width = 0\n",
        "\n",
        "    def set_dimensions(self, length, width):\n",
        "        \"\"\"Set the dimensions of the rectangle.\"\"\"\n",
        "        self.length = length\n",
        "        self.width = width\n",
        "\n",
        "    def area(self):\n",
        "        \"\"\"Calculate the area of the rectangle.\"\"\"\n",
        "        return self.length * self.width\n",
        "\n",
        "rectangle = Rectangle()\n",
        "rectangle.set_dimensions(5, 10)\n",
        "area = rectangle.area()\n",
        "print(f\"Area of the rectangle: {area}\")  # Output: Area of the rectangle: 50"
      ],
      "metadata": {
        "id": "1jvZqFsJE0un",
        "colab": {
          "base_uri": "https://localhost:8080/"
        },
        "outputId": "e475c1ed-4bba-46df-e51d-e9f9ad6a097a"
      },
      "execution_count": null,
      "outputs": [
        {
          "output_type": "stream",
          "name": "stdout",
          "text": [
            "Area of the rectangle: 50\n"
          ]
        }
      ]
    },
    {
      "cell_type": "code",
      "source": [
        "#14. Create a class Employee with a method calculate_salary() that computes the salary based on hours worked  and hourly rate. Create a derived class Manager that adds a bonus to the salary.\n",
        "\n",
        "class Employee:\n",
        "    def __init__(self, name, hours_worked, hourly_rate):\n",
        "        self.name = name\n",
        "        self.hours_worked = hours_worked\n",
        "        self.hourly_rate = hourly_rate\n",
        "\n",
        "    def calculate_salary(self):\n",
        "        \"\"\"Calculate the salary based on hours worked and hourly rate.\"\"\"\n",
        "        return self.hours_worked * self.hourly_rate\n",
        "\n",
        "class Manager(Employee):\n",
        "    def __init__(self, name, hours_worked, hourly_rate, bonus):\n",
        "        super().__init__(name, hours_worked, hourly_rate)\n",
        "        self.bonus = bonus\n",
        "\n",
        "    def calculate_salary(self):\n",
        "        \"\"\"Calculate the salary with a bonus.\"\"\"\n",
        "        base_salary = super().calculate_salary()\n",
        "        return base_salary + self.bonus\n",
        "\n",
        "employee = Employee(\"Alice\", 160, 25)\n",
        "print(f\"Employee Salary: {employee.calculate_salary()}\")  # Output: Employee Salary: 4000\n",
        "\n",
        "manager = Manager(\"Bob\", 160, 30, 1000)\n",
        "print(f\"Manager Salary: {manager.calculate_salary()}\")  # Output: Manager Salary: 5000\n"
      ],
      "metadata": {
        "id": "lWs96ed1E0PX",
        "colab": {
          "base_uri": "https://localhost:8080/"
        },
        "outputId": "37c34873-fc3b-4a6b-8d9f-69eb9a6b83c2"
      },
      "execution_count": null,
      "outputs": [
        {
          "output_type": "stream",
          "name": "stdout",
          "text": [
            "Employee Salary: 4000\n",
            "Manager Salary: 5800\n"
          ]
        }
      ]
    },
    {
      "cell_type": "code",
      "source": [
        "#15. Create a class Product with attributes name, price, and quantity. Implement a method total_price() that  calculates the total price of the product.\n",
        "\n",
        "class Product:\n",
        "    def __init__(self, name, price, quantity):\n",
        "        self.name = name\n",
        "        self.price = price\n",
        "        self.quantity = quantity\n",
        "\n",
        "    def total_price(self):\n",
        "        \"\"\"Calculate the total price of the product based on quantity and price.\"\"\"\n",
        "        return self.price * self.quantity\n",
        "\n",
        "product = Product(\"Laptop\", 1000, 5)\n",
        "total_price = product.total_price()\n",
        "print(f\"Total price of the product: {total_price}\")  # Output: Total price of the product: 5000"
      ],
      "metadata": {
        "id": "khoyfCt_E0ES",
        "colab": {
          "base_uri": "https://localhost:8080/"
        },
        "outputId": "304b6aea-000f-41cc-a86f-5ccbbf1bbfde"
      },
      "execution_count": null,
      "outputs": [
        {
          "output_type": "stream",
          "name": "stdout",
          "text": [
            "Total price of the product: 5000\n"
          ]
        }
      ]
    },
    {
      "cell_type": "code",
      "source": [
        "#16. Create a class Animal with an abstract method sound(). Create two derived classes Cow and Sheep that implement the sound() method.\n",
        "\n",
        "from abc import ABC, abstractmethod\n",
        "\n",
        "class Animal(ABC):\n",
        "    @abstractmethod\n",
        "    def sound(self):\n",
        "        pass\n",
        "\n",
        "class Cow(Animal):\n",
        "    def sound(self):\n",
        "        return \"Moo\"\n",
        "\n",
        "class Sheep(Animal):\n",
        "    def sound(self):\n",
        "        return \"Baa\"\n",
        "\n",
        "cow = Cow()\n",
        "sheep = Sheep()\n",
        "\n",
        "print(cow.sound())   # Output: Moo\n",
        "print(sheep.sound()) # Output: Baa"
      ],
      "metadata": {
        "id": "T7SFgvypEz7B",
        "colab": {
          "base_uri": "https://localhost:8080/"
        },
        "outputId": "4bf36812-a5ae-4004-8ff7-e9d41161dbd8"
      },
      "execution_count": null,
      "outputs": [
        {
          "output_type": "stream",
          "name": "stdout",
          "text": [
            "Moo\n",
            "Baa\n"
          ]
        }
      ]
    },
    {
      "cell_type": "code",
      "source": [
        "#17. Create a class Book with attributes title, author, and year_published. Add a method get_book_info() that  returns a formatted string with the book's details.\n",
        "\n",
        "class Book:\n",
        "    def __init__(self, title, author, year_published):\n",
        "        self.title = title\n",
        "        self.author = author\n",
        "        self.year_published = year_published\n",
        "\n",
        "    def get_book_info(self):\n",
        "        \"\"\"Return formatted string with book details.\"\"\"\n",
        "        return f\"Title: {self.title}, Author: {self.author}, Year Published: {self.year_published}\"\n",
        "\n",
        "book = Book(\"To Kill a Mockingbird\", \"Harper Lee\", 1960)\n",
        "book_info = book.get_book_info()\n",
        "print(book_info)  # Output: Title: To Kill a Mockingbird, Author: Harper Lee, Year Published: 1960"
      ],
      "metadata": {
        "id": "n7GvC3uyEzvT",
        "colab": {
          "base_uri": "https://localhost:8080/"
        },
        "outputId": "2ec1f13a-30e0-4daa-826f-b191ec99b125"
      },
      "execution_count": null,
      "outputs": [
        {
          "output_type": "stream",
          "name": "stdout",
          "text": [
            "Title: To Kill a Mockingbird, Author: Harper Lee, Year Published: 1960\n"
          ]
        }
      ]
    },
    {
      "cell_type": "code",
      "source": [
        "#18. Create a class House with attributes address and price. Create a derived class Mansion that adds an  attribute number_of_rooms.\n",
        "\n",
        "class House:\n",
        "    def __init__(self, address, price):\n",
        "        self.address = address\n",
        "        self.price = price\n",
        "\n",
        "    def get_info(self):\n",
        "        \"\"\"Return basic information about the house.\"\"\"\n",
        "        return f\"Address: {self.address}, Price: {self.price}\"\n",
        "\n",
        "class Mansion(House):\n",
        "    def __init__(self, address, price, number_of_rooms):\n",
        "        super().__init__(address, price)\n",
        "        self.number_of_rooms = number_of_rooms\n",
        "\n",
        "    def get_info(self):\n",
        "        \"\"\"Return detailed information about the mansion.\"\"\"\n",
        "        return f\"Address: {self.address}, Price: {self.price}, Number of Rooms: {self.number_of_rooms}\"\n",
        "\n",
        "mansion = Mansion(\"123 Luxury Lane\", 5000000, 10)\n",
        "mansion_info = mansion.get_info()\n",
        "print(mansion_info)  # Output: Address: 123 Luxury Lane, Price: 5000000, Number of Rooms: 10"
      ],
      "metadata": {
        "id": "pVujTdO0Ezjg",
        "colab": {
          "base_uri": "https://localhost:8080/"
        },
        "outputId": "3de99a92-2a48-4a2e-ac0b-f66907568ece"
      },
      "execution_count": null,
      "outputs": [
        {
          "output_type": "stream",
          "name": "stdout",
          "text": [
            "Address: 123 Luxury Lane, Price: 5000000, Number of Rooms: 10\n"
          ]
        }
      ]
    }
  ]
}